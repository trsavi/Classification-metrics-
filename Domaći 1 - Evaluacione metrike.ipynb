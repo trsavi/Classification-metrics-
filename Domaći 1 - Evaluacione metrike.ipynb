{
 "cells": [
  {
   "cell_type": "markdown",
   "metadata": {},
   "source": [
    "# Definisanje metoda"
   ]
  },
  {
   "cell_type": "markdown",
   "metadata": {},
   "source": [
    "Ucitavanje biblioteka i dataseta "
   ]
  },
  {
   "cell_type": "code",
   "execution_count": 257,
   "metadata": {},
   "outputs": [],
   "source": [
    "import pandas as pd\n",
    "import numpy as np\n",
    "import matplotlib.pyplot as plt\n",
    "%matplotlib inline\n",
    "\n",
    "df = pd.read_csv(\"data.csv\")"
   ]
  },
  {
   "cell_type": "code",
   "execution_count": 258,
   "metadata": {},
   "outputs": [
    {
     "data": {
      "text/html": [
       "<div>\n",
       "<style scoped>\n",
       "    .dataframe tbody tr th:only-of-type {\n",
       "        vertical-align: middle;\n",
       "    }\n",
       "\n",
       "    .dataframe tbody tr th {\n",
       "        vertical-align: top;\n",
       "    }\n",
       "\n",
       "    .dataframe thead th {\n",
       "        text-align: right;\n",
       "    }\n",
       "</style>\n",
       "<table border=\"1\" class=\"dataframe\">\n",
       "  <thead>\n",
       "    <tr style=\"text-align: right;\">\n",
       "      <th></th>\n",
       "      <th>actual_label</th>\n",
       "      <th>model_RF</th>\n",
       "      <th>model_LR</th>\n",
       "    </tr>\n",
       "  </thead>\n",
       "  <tbody>\n",
       "    <tr>\n",
       "      <th>0</th>\n",
       "      <td>1</td>\n",
       "      <td>0.639816</td>\n",
       "      <td>0.531904</td>\n",
       "    </tr>\n",
       "    <tr>\n",
       "      <th>1</th>\n",
       "      <td>0</td>\n",
       "      <td>0.490993</td>\n",
       "      <td>0.414496</td>\n",
       "    </tr>\n",
       "    <tr>\n",
       "      <th>2</th>\n",
       "      <td>1</td>\n",
       "      <td>0.623815</td>\n",
       "      <td>0.569883</td>\n",
       "    </tr>\n",
       "    <tr>\n",
       "      <th>3</th>\n",
       "      <td>1</td>\n",
       "      <td>0.506616</td>\n",
       "      <td>0.443674</td>\n",
       "    </tr>\n",
       "    <tr>\n",
       "      <th>4</th>\n",
       "      <td>0</td>\n",
       "      <td>0.418302</td>\n",
       "      <td>0.369532</td>\n",
       "    </tr>\n",
       "  </tbody>\n",
       "</table>\n",
       "</div>"
      ],
      "text/plain": [
       "   actual_label  model_RF  model_LR\n",
       "0             1  0.639816  0.531904\n",
       "1             0  0.490993  0.414496\n",
       "2             1  0.623815  0.569883\n",
       "3             1  0.506616  0.443674\n",
       "4             0  0.418302  0.369532"
      ]
     },
     "execution_count": 258,
     "metadata": {},
     "output_type": "execute_result"
    }
   ],
   "source": [
    "df.head()"
   ]
  },
  {
   "cell_type": "markdown",
   "metadata": {},
   "source": [
    "Posto nam trebaju binarne vrednosti, odredjujemo vrenosti u koloni na osnovu threshold-a"
   ]
  },
  {
   "cell_type": "code",
   "execution_count": 259,
   "metadata": {},
   "outputs": [],
   "source": [
    "def threshold(thresh):\n",
    "    df['model_LR_bin'] = df['model_LR'].apply(lambda x: 1 if x>thresh else 0)\n",
    "    df['model_RF_bin'] = df['model_RF'].apply(lambda x: 1 if x>thresh else 0)"
   ]
  },
  {
   "cell_type": "code",
   "execution_count": 260,
   "metadata": {},
   "outputs": [],
   "source": [
    "threshold(0.5)"
   ]
  },
  {
   "cell_type": "code",
   "execution_count": 261,
   "metadata": {
    "scrolled": true
   },
   "outputs": [
    {
     "data": {
      "text/html": [
       "<div>\n",
       "<style scoped>\n",
       "    .dataframe tbody tr th:only-of-type {\n",
       "        vertical-align: middle;\n",
       "    }\n",
       "\n",
       "    .dataframe tbody tr th {\n",
       "        vertical-align: top;\n",
       "    }\n",
       "\n",
       "    .dataframe thead th {\n",
       "        text-align: right;\n",
       "    }\n",
       "</style>\n",
       "<table border=\"1\" class=\"dataframe\">\n",
       "  <thead>\n",
       "    <tr style=\"text-align: right;\">\n",
       "      <th></th>\n",
       "      <th>actual_label</th>\n",
       "      <th>model_RF</th>\n",
       "      <th>model_LR</th>\n",
       "      <th>model_LR_bin</th>\n",
       "      <th>model_RF_bin</th>\n",
       "    </tr>\n",
       "  </thead>\n",
       "  <tbody>\n",
       "    <tr>\n",
       "      <th>0</th>\n",
       "      <td>1</td>\n",
       "      <td>0.639816</td>\n",
       "      <td>0.531904</td>\n",
       "      <td>1</td>\n",
       "      <td>1</td>\n",
       "    </tr>\n",
       "    <tr>\n",
       "      <th>1</th>\n",
       "      <td>0</td>\n",
       "      <td>0.490993</td>\n",
       "      <td>0.414496</td>\n",
       "      <td>0</td>\n",
       "      <td>0</td>\n",
       "    </tr>\n",
       "    <tr>\n",
       "      <th>2</th>\n",
       "      <td>1</td>\n",
       "      <td>0.623815</td>\n",
       "      <td>0.569883</td>\n",
       "      <td>1</td>\n",
       "      <td>1</td>\n",
       "    </tr>\n",
       "    <tr>\n",
       "      <th>3</th>\n",
       "      <td>1</td>\n",
       "      <td>0.506616</td>\n",
       "      <td>0.443674</td>\n",
       "      <td>0</td>\n",
       "      <td>1</td>\n",
       "    </tr>\n",
       "    <tr>\n",
       "      <th>4</th>\n",
       "      <td>0</td>\n",
       "      <td>0.418302</td>\n",
       "      <td>0.369532</td>\n",
       "      <td>0</td>\n",
       "      <td>0</td>\n",
       "    </tr>\n",
       "  </tbody>\n",
       "</table>\n",
       "</div>"
      ],
      "text/plain": [
       "   actual_label  model_RF  model_LR  model_LR_bin  model_RF_bin\n",
       "0             1  0.639816  0.531904             1             1\n",
       "1             0  0.490993  0.414496             0             0\n",
       "2             1  0.623815  0.569883             1             1\n",
       "3             1  0.506616  0.443674             0             1\n",
       "4             0  0.418302  0.369532             0             0"
      ]
     },
     "execution_count": 261,
     "metadata": {},
     "output_type": "execute_result"
    }
   ],
   "source": [
    "df.head()"
   ]
  },
  {
   "cell_type": "markdown",
   "metadata": {},
   "source": [
    "Definisanje True Positive, True Negative, False Positive i False Negative vrednosti u zasebne kolone"
   ]
  },
  {
   "cell_type": "markdown",
   "metadata": {},
   "source": [
    " # Evaluacione metrike\n",
    " \n",
    " Napomena: Nisu radjene srednje vrednosti za sve klase vec je za svaku klasu posebno izracunata metrika sem kod accuracy"
   ]
  },
  {
   "cell_type": "markdown",
   "metadata": {},
   "source": [
    "## Matrica konfuzije koja podrzava i multiclass probleme"
   ]
  },
  {
   "cell_type": "code",
   "execution_count": 262,
   "metadata": {},
   "outputs": [],
   "source": [
    "def confusion_matrix(y_true, y_pred):\n",
    "    classes=np.unique(y_true)\n",
    "    dim=len(classes)\n",
    "    cm=np.zeros((dim,dim))\n",
    "    for i in range(len(y_true)):\n",
    "        cm[y_true[i], y_pred[i]]+=1\n",
    "    return cm.astype(np.int)"
   ]
  },
  {
   "cell_type": "code",
   "execution_count": 263,
   "metadata": {},
   "outputs": [
    {
     "data": {
      "text/plain": [
       "array([[5519, 2360],\n",
       "       [2832, 5047]])"
      ]
     },
     "execution_count": 263,
     "metadata": {},
     "output_type": "execute_result"
    }
   ],
   "source": [
    "y_true = df['actual_label']\n",
    "y_pred = df['model_RF_bin']\n",
    "cm = confusion_matrix(y_true,y_pred)\n",
    "cm"
   ]
  },
  {
   "cell_type": "markdown",
   "metadata": {},
   "source": [
    "## Accuracy\n",
    "\n",
    "Izracunava se kao: (TP+TN)/total"
   ]
  },
  {
   "cell_type": "code",
   "execution_count": 264,
   "metadata": {},
   "outputs": [],
   "source": [
    "def accuracy(matrix):\n",
    "    return (sum(np.diagonal(matrix)))/np.sum(matrix)"
   ]
  },
  {
   "cell_type": "code",
   "execution_count": 265,
   "metadata": {},
   "outputs": [
    {
     "name": "stdout",
     "output_type": "stream",
     "text": [
      "Accuracy for Linear Model\n"
     ]
    },
    {
     "data": {
      "text/plain": [
       "0.6158141896179719"
      ]
     },
     "execution_count": 265,
     "metadata": {},
     "output_type": "execute_result"
    }
   ],
   "source": [
    "print(\"Accuracy for Linear Model\")\n",
    "accuracy(matrix_L)"
   ]
  },
  {
   "cell_type": "code",
   "execution_count": 266,
   "metadata": {},
   "outputs": [
    {
     "name": "stdout",
     "output_type": "stream",
     "text": [
      "Accuracy for RF Model\n"
     ]
    },
    {
     "data": {
      "text/plain": [
       "0.6705165630156111"
      ]
     },
     "execution_count": 266,
     "metadata": {},
     "output_type": "execute_result"
    }
   ],
   "source": [
    "print(\"Accuracy for RF Model\")\n",
    "accuracy(matrix_R)"
   ]
  },
  {
   "cell_type": "markdown",
   "metadata": {},
   "source": [
    "## Precision\n",
    "\n",
    "Izracunava se kao: TP/(TP+FP) "
   ]
  },
  {
   "cell_type": "code",
   "execution_count": 267,
   "metadata": {},
   "outputs": [],
   "source": [
    "def precision(matrix):\n",
    "    for i in range(len(matrix)):\n",
    "        print(\"For class {}, precision is: {}\".format(i,((matrix[i][i])/sum(matrix[i]))))"
   ]
  },
  {
   "cell_type": "code",
   "execution_count": 268,
   "metadata": {},
   "outputs": [
    {
     "name": "stdout",
     "output_type": "stream",
     "text": [
      "Precision for Linear Model\n",
      "For class 0, precision is: 0.6355265112134264\n",
      "For class 1, precision is: 0.6011080332409973\n"
     ]
    }
   ],
   "source": [
    "print(\"Precision for Linear Model\")\n",
    "precision(matrix_L)"
   ]
  },
  {
   "cell_type": "code",
   "execution_count": 269,
   "metadata": {},
   "outputs": [
    {
     "name": "stdout",
     "output_type": "stream",
     "text": [
      "Precision for RF Model\n",
      "For class 0, precision is: 0.681382476036182\n",
      "For class 1, precision is: 0.6608789366542929\n"
     ]
    }
   ],
   "source": [
    "print(\"Precision for RF Model\")\n",
    "precision(matrix_R)"
   ]
  },
  {
   "cell_type": "markdown",
   "metadata": {},
   "source": [
    "## Recall/Sensitivity\n",
    "\n",
    "Izracunava se kao: TP/(TP+FN)"
   ]
  },
  {
   "cell_type": "code",
   "execution_count": 270,
   "metadata": {},
   "outputs": [],
   "source": [
    "def recall(matrix, roc=False):\n",
    "    if roc:\n",
    "        lista=[]\n",
    "        for i in range(len(matrix)):\n",
    "            lista.append(((matrix[i][i])/sum(matrix[:,i])) if sum(matrix[:,i]) > 0 else 0)\n",
    "        return lista\n",
    "    else:\n",
    "        for i in range(len(matrix)):\n",
    "            print(\"For class {}, precision is: {}\".format(i,((matrix[i][i])/sum(matrix[:][i]))))"
   ]
  },
  {
   "cell_type": "code",
   "execution_count": 271,
   "metadata": {},
   "outputs": [
    {
     "name": "stdout",
     "output_type": "stream",
     "text": [
      "Recall for Linear Model\n",
      "For class 0, precision is: 0.6355265112134264\n",
      "For class 1, precision is: 0.6011080332409973\n"
     ]
    }
   ],
   "source": [
    "print(\"Recall for Linear Model\")\n",
    "recall(matrix_L)"
   ]
  },
  {
   "cell_type": "code",
   "execution_count": 272,
   "metadata": {},
   "outputs": [
    {
     "name": "stdout",
     "output_type": "stream",
     "text": [
      "Recall for RF Model\n",
      "For class 0, precision is: 0.681382476036182\n",
      "For class 1, precision is: 0.6608789366542929\n"
     ]
    }
   ],
   "source": [
    "print(\"Recall for RF Model\")\n",
    "recall(matrix_R)"
   ]
  },
  {
   "cell_type": "markdown",
   "metadata": {},
   "source": [
    "## Specificity\n",
    "\n",
    "Izracunava se kao: TN/(TN+FP)"
   ]
  },
  {
   "cell_type": "code",
   "execution_count": 273,
   "metadata": {},
   "outputs": [],
   "source": [
    "def specificity(matrix):\n",
    "    num_classes = np.shape(matrix)[0]\n",
    "    for j in range(num_classes):\n",
    "        \n",
    "        tp = np.sum(matrix[j][j])\n",
    "        fp = np.sum(matrix[j][int(np.concatenate((np.arange(0, j), np.arange(j+1, num_classes))))])\n",
    "        fn = np.sum(matrix[int(np.concatenate((np.arange(0, j), np.arange(j+1, num_classes))))][j])\n",
    "        tn = np.sum(matrix) - (tp+fp+fn)\n",
    "        print(\"For class {}, recall is: {}\".format(j,(tn/(tn+fp))))"
   ]
  },
  {
   "cell_type": "code",
   "execution_count": 274,
   "metadata": {},
   "outputs": [
    {
     "name": "stdout",
     "output_type": "stream",
     "text": [
      "Specificity for Linear Model\n",
      "For class 0, recall is: 0.6885391547150653\n",
      "For class 1, recall is: 0.5430892245208783\n"
     ]
    }
   ],
   "source": [
    "print(\"Specificity for Linear Model\")\n",
    "specificity(matrix_L)"
   ]
  },
  {
   "cell_type": "code",
   "execution_count": 275,
   "metadata": {},
   "outputs": [
    {
     "name": "stdout",
     "output_type": "stream",
     "text": [
      "Specificity for RF Model\n",
      "For class 0, recall is: 0.7004696027414646\n",
      "For class 1, recall is: 0.6405635232897576\n"
     ]
    }
   ],
   "source": [
    "print(\"Specificity for RF Model\")\n",
    "specificity(matrix_R)"
   ]
  },
  {
   "cell_type": "markdown",
   "metadata": {},
   "source": [
    "## F-1 score\n",
    "\n",
    "Izracunava se kao: 2*TP/(2*TP+FN+FP)"
   ]
  },
  {
   "cell_type": "code",
   "execution_count": 276,
   "metadata": {},
   "outputs": [],
   "source": [
    "# Podrzava i multiclass probleme\n",
    "def f1(matrix):\n",
    "    num_classes = np.shape(matrix)[0]\n",
    "    f1_score = np.zeros(shape=(num_classes,), dtype='float32')\n",
    "    weights = np.sum(matrix, axis=0)/np.sum(matrix)\n",
    "\n",
    "    for j in range(num_classes):\n",
    "        tp = np.sum(matrix[j][j])\n",
    "        fp = np.sum(matrix[j][int(np.concatenate((np.arange(0, j), np.arange(j+1, num_classes))))])\n",
    "        fn = np.sum(matrix[int(np.concatenate((np.arange(0, j), np.arange(j+1, num_classes))))][j])\n",
    "        precision = tp/(tp+fp) if (tp+fp) > 0 else 0\n",
    "        recall = tp/(tp+fn) if (tp+fn) > 0 else 0\n",
    "        f1_score[j] = 2*precision*recall/(precision + recall)*weights[j] if (precision + recall) > 0 else 0\n",
    "\n",
    "    f1_score = np.sum(f1_score)\n",
    "    return f1_score"
   ]
  },
  {
   "cell_type": "code",
   "execution_count": 277,
   "metadata": {
    "scrolled": true
   },
   "outputs": [
    {
     "name": "stdout",
     "output_type": "stream",
     "text": [
      "F1-score for Linear Model\n"
     ]
    },
    {
     "data": {
      "text/plain": [
       "0.61377144"
      ]
     },
     "execution_count": 277,
     "metadata": {},
     "output_type": "execute_result"
    }
   ],
   "source": [
    "print(\"F1-score for Linear Model\")\n",
    "f1(matrix_L)"
   ]
  },
  {
   "cell_type": "code",
   "execution_count": 278,
   "metadata": {},
   "outputs": [
    {
     "name": "stdout",
     "output_type": "stream",
     "text": [
      "F1-score for RF Model\n"
     ]
    },
    {
     "data": {
      "text/plain": [
       "0.67022073"
      ]
     },
     "execution_count": 278,
     "metadata": {},
     "output_type": "execute_result"
    }
   ],
   "source": [
    "print(\"F1-score for RF Model\")\n",
    "f1(matrix_R)"
   ]
  },
  {
   "cell_type": "markdown",
   "metadata": {},
   "source": [
    "## ROC\n",
    "\n",
    "Predstavlja zavisnost izmedju True positive rate i False positive rate kroz razlicite threshold-ove.\n",
    "\n",
    "Napomena: Ne radi ispravno"
   ]
  },
  {
   "cell_type": "code",
   "execution_count": 279,
   "metadata": {},
   "outputs": [],
   "source": [
    "def fpr(matrix):\n",
    "    num_classes=np.shape(matrix)[0]\n",
    "    rates=[]\n",
    "    for j in range(num_classes):\n",
    "        tp = np.sum(matrix[j][j])\n",
    "        fp = np.sum(matrix[j][int(np.concatenate((np.arange(0, j), np.arange(j+1, num_classes))))])\n",
    "        fn = np.sum(matrix[int(np.concatenate((np.arange(0, j), np.arange(j+1, num_classes))))][j])\n",
    "        tn = np.sum(matrix) - (tp+fp+fn)\n",
    "        rates.append(fp/(fp+tn) if (fp+tn)> 0 else 0)\n",
    "    return rates\n",
    "\n",
    "def tpr(matrix):\n",
    "    return recall(matrix, roc=True)\n",
    "        \n",
    "\n",
    "def roc_curve(y_true,y_pred):\n",
    "    thresholds = np.arange(0,1,0.1)\n",
    "    tpr_m = []\n",
    "    fpr_m = []\n",
    "    for thresh in thresholds:\n",
    "        threshold(thresh)\n",
    "        matrix = confusion_matrix(y_true,y_pred)\n",
    "        fpr_m.append(fpr(matrix))\n",
    "        tpr_m.append(recall(matrix,roc=True))\n",
    "    x=[]\n",
    "    y=[]\n",
    "    for j in range(0,np.shape(matrix)[0]):\n",
    "        for i in tpr_m:\n",
    "            x.append(i[j])\n",
    "        for k in fpr_m:\n",
    "            y.append(k[j])\n",
    "    plt.plot(y,x)\n",
    "            \n",
    "                \n",
    "\n",
    "def auc(tpr, fpr):\n",
    "    return np.trapz(tpr, x=fpr)"
   ]
  },
  {
   "cell_type": "code",
   "execution_count": 280,
   "metadata": {},
   "outputs": [
    {
     "data": {
      "image/png": "[encoded data removed]",
      "text/plain": [
       "<Figure size 432x288 with 1 Axes>"
      ]
     },
     "metadata": {
      "needs_background": "light"
     },
     "output_type": "display_data"
    }
   ],
   "source": [
    "roc_curve(df['actual_label'],df['model_RF_bin'])"
   ]
  },
  {
   "cell_type": "code",
   "execution_count": null,
   "metadata": {},
   "outputs": [],
   "source": []
  }
 ],
 "metadata": {
  "kernelspec": {
   "display_name": "Python 3",
   "language": "python",
   "name": "python3"
  },
  "language_info": {
   "codemirror_mode": {
    "name": "ipython",
    "version": 3
   },
   "file_extension": ".py",
   "mimetype": "text/x-python",
   "name": "python",
   "nbconvert_exporter": "python",
   "pygments_lexer": "ipython3",
   "version": "3.7.6"
  }
 },
 "nbformat": 4,
 "nbformat_minor": 4
}
